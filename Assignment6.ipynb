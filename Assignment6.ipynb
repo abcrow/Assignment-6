{
 "cells": [
  {
   "cell_type": "code",
   "execution_count": 1,
   "metadata": {},
   "outputs": [
    {
     "name": "stdin",
     "output_type": "stream",
     "text": [
      "Please Enter Your Name:  Wyatt\n"
     ]
    },
    {
     "name": "stdout",
     "output_type": "stream",
     "text": [
      "Great! Hi, Wyatt!\n"
     ]
    },
    {
     "name": "stdin",
     "output_type": "stream",
     "text": [
      "Please Enter Your Age (In Digits):  20\n"
     ]
    },
    {
     "name": "stdout",
     "output_type": "stream",
     "text": [
      "Sorry but we can't go gambling\n"
     ]
    }
   ],
   "source": [
    "name = input(prompt=\"Please Enter Your Name: \")\n",
    "print(\"Great! Hi, \" + name + \"!\")\n",
    "\n",
    "Age = -1\n",
    "passed = False\n",
    "\n",
    "while passed == False:\n",
    "    try:\n",
    "        Age = int(input(\"Please Enter Your Age (In Digits): \"))\n",
    "        passed = True\n",
    "    except:\n",
    "        print(\"Error Occurred Please Try Again\")\n",
    "\n",
    "if Age > 20:\n",
    "    print(\"Alright \" + name + \", Let's go gambling!\")\n",
    "else:\n",
    "    print(\"Sorry but we can't go gambling\")\n",
    "    \n"
   ]
  }
 ],
 "metadata": {
  "kernelspec": {
   "display_name": "Python 3.7",
   "language": "python",
   "name": "python3"
  },
  "language_info": {
   "codemirror_mode": {
    "name": "ipython",
    "version": 3
   },
   "file_extension": ".py",
   "mimetype": "text/x-python",
   "name": "python",
   "nbconvert_exporter": "python",
   "pygments_lexer": "ipython3",
   "version": "3.7.0"
  }
 },
 "nbformat": 4,
 "nbformat_minor": 4
}
